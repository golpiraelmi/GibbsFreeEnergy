{
 "cells": [
  {
   "cell_type": "code",
   "execution_count": 1,
   "id": "27d0ecde",
   "metadata": {},
   "outputs": [],
   "source": [
    "import pandas as pd\n",
    "import numpy as np\n",
    "import requests\n",
    "from bs4 import BeautifulSoup as bs\n",
    "from pretty_html_table import build_table"
   ]
  },
  {
   "cell_type": "code",
   "execution_count": 2,
   "id": "290711e9",
   "metadata": {},
   "outputs": [],
   "source": [
    "# MAKE IT READ THE DATA DIRECTLY OFF THE WEBSITE"
   ]
  },
  {
   "cell_type": "code",
   "execution_count": 3,
   "id": "f0c8db6d",
   "metadata": {},
   "outputs": [
    {
     "data": {
      "text/html": [
       "<div>\n",
       "<style scoped>\n",
       "    .dataframe tbody tr th:only-of-type {\n",
       "        vertical-align: middle;\n",
       "    }\n",
       "\n",
       "    .dataframe tbody tr th {\n",
       "        vertical-align: top;\n",
       "    }\n",
       "\n",
       "    .dataframe thead th {\n",
       "        text-align: right;\n",
       "    }\n",
       "</style>\n",
       "<table border=\"1\" class=\"dataframe\">\n",
       "  <thead>\n",
       "    <tr style=\"text-align: right;\">\n",
       "      <th></th>\n",
       "      <th>Substance</th>\n",
       "      <th>Δ𝐻∘f (kJ mol–1)</th>\n",
       "      <th>Δ𝐺∘f (kJ mol–1)</th>\n",
       "      <th>𝑆° (J K–1 mol–1)</th>\n",
       "    </tr>\n",
       "  </thead>\n",
       "  <tbody>\n",
       "    <tr>\n",
       "      <th>0</th>\n",
       "      <td>aluminum</td>\n",
       "      <td>NaN</td>\n",
       "      <td>NaN</td>\n",
       "      <td>NaN</td>\n",
       "    </tr>\n",
       "    <tr>\n",
       "      <th>1</th>\n",
       "      <td>Al(s)</td>\n",
       "      <td>0.0</td>\n",
       "      <td>0.0</td>\n",
       "      <td>28.30</td>\n",
       "    </tr>\n",
       "    <tr>\n",
       "      <th>2</th>\n",
       "      <td>Al(g)</td>\n",
       "      <td>324.4</td>\n",
       "      <td>285.7</td>\n",
       "      <td>164.54</td>\n",
       "    </tr>\n",
       "    <tr>\n",
       "      <th>3</th>\n",
       "      <td>Al3+(aq)</td>\n",
       "      <td>-531.0</td>\n",
       "      <td>-485.0</td>\n",
       "      <td>-321.70</td>\n",
       "    </tr>\n",
       "    <tr>\n",
       "      <th>4</th>\n",
       "      <td>Al2O3(s)</td>\n",
       "      <td>-1676.0</td>\n",
       "      <td>-1582.0</td>\n",
       "      <td>50.92</td>\n",
       "    </tr>\n",
       "    <tr>\n",
       "      <th>...</th>\n",
       "      <td>...</td>\n",
       "      <td>...</td>\n",
       "      <td>...</td>\n",
       "      <td>...</td>\n",
       "    </tr>\n",
       "    <tr>\n",
       "      <th>395</th>\n",
       "      <td>[Co(NH3)5Cl]Cl2</td>\n",
       "      <td>-1017.1</td>\n",
       "      <td>-582.5</td>\n",
       "      <td>366.10</td>\n",
       "    </tr>\n",
       "    <tr>\n",
       "      <th>396</th>\n",
       "      <td>[Pt(NH3)4]Cl2</td>\n",
       "      <td>-725.5</td>\n",
       "      <td>NaN</td>\n",
       "      <td>NaN</td>\n",
       "    </tr>\n",
       "    <tr>\n",
       "      <th>397</th>\n",
       "      <td>[Ni(NH3)6]Cl2</td>\n",
       "      <td>-994.1</td>\n",
       "      <td>NaN</td>\n",
       "      <td>NaN</td>\n",
       "    </tr>\n",
       "    <tr>\n",
       "      <th>398</th>\n",
       "      <td>[Ni(NH3)6]Br2</td>\n",
       "      <td>-923.8</td>\n",
       "      <td>NaN</td>\n",
       "      <td>NaN</td>\n",
       "    </tr>\n",
       "    <tr>\n",
       "      <th>399</th>\n",
       "      <td>[Ni(NH3)6]I2</td>\n",
       "      <td>-808.3</td>\n",
       "      <td>NaN</td>\n",
       "      <td>NaN</td>\n",
       "    </tr>\n",
       "  </tbody>\n",
       "</table>\n",
       "<p>400 rows × 4 columns</p>\n",
       "</div>"
      ],
      "text/plain": [
       "           Substance  Δ𝐻∘f (kJ mol–1)  Δ𝐺∘f (kJ mol–1)  𝑆° (J K–1 mol–1)\n",
       "0           aluminum              NaN              NaN               NaN\n",
       "1              Al(s)              0.0              0.0             28.30\n",
       "2              Al(g)            324.4            285.7            164.54\n",
       "3           Al3+(aq)           -531.0           -485.0           -321.70\n",
       "4           Al2O3(s)          -1676.0          -1582.0             50.92\n",
       "..               ...              ...              ...               ...\n",
       "395  [Co(NH3)5Cl]Cl2          -1017.1           -582.5            366.10\n",
       "396    [Pt(NH3)4]Cl2           -725.5              NaN               NaN\n",
       "397    [Ni(NH3)6]Cl2           -994.1              NaN               NaN\n",
       "398    [Ni(NH3)6]Br2           -923.8              NaN               NaN\n",
       "399     [Ni(NH3)6]I2           -808.3              NaN               NaN\n",
       "\n",
       "[400 rows x 4 columns]"
      ]
     },
     "execution_count": 3,
     "metadata": {},
     "output_type": "execute_result"
    }
   ],
   "source": [
    "url= 'https://openstax.org/books/chemistry-2e/pages/g-standard-thermodynamic-properties-for-selected-substances'\n",
    "\n",
    "html_contents, substance =[],[]\n",
    "html_contents.append(requests.get(url).text) \n",
    "\n",
    "for html in html_contents:\n",
    "    soup = bs(html, \"lxml\")\n",
    "    table = soup.tbody\n",
    "    rows = table.find_all('tr')\n",
    "    \n",
    "    for row in rows:\n",
    "        cols = row.find_all('td')\n",
    "        cols = [ele.text.strip() for ele in cols]\n",
    "        substance.append(cols) \n",
    "        df = pd.DataFrame(substance)\n",
    "        \n",
    "df.columns=['Substance', 'Δ𝐻∘f (kJ mol–1)', 'Δ𝐺∘f (kJ mol–1)', '𝑆° (J K–1 mol–1)']\n",
    "\n",
    "# Cleaning Data from special character\n",
    "df['Δ𝐻∘f (kJ mol–1)'].replace(to_replace='â', value='-', regex=True, inplace=True)\n",
    "df['Δ𝐺∘f (kJ mol–1)'].replace(to_replace='â', value='-', regex=True, inplace=True)\n",
    "df['𝑆° (J K–1 mol–1)'].replace(to_replace='â', value='-', regex=True, inplace=True)\n",
    "df = df.replace('â','-')\n",
    "\n",
    "# Converting strings to float\n",
    "df['Δ𝐻∘f (kJ mol–1)'] = pd.to_numeric(df['Δ𝐻∘f (kJ mol–1)'], errors='coerce')\n",
    "df['Δ𝐺∘f (kJ mol–1)'] = pd.to_numeric(df['Δ𝐺∘f (kJ mol–1)'], errors='coerce')\n",
    "df['𝑆° (J K–1 mol–1)'] = pd.to_numeric(df['𝑆° (J K–1 mol–1)'], errors='coerce')\n",
    "\n",
    "\n",
    "df.to_excel('thermodyanmics.xlsx', index=False)\n",
    "df"
   ]
  },
  {
   "cell_type": "code",
   "execution_count": 4,
   "id": "4c8fc3ea",
   "metadata": {},
   "outputs": [],
   "source": [
    "def calculate_delta_G(a,b):\n",
    "\n",
    "    delta_H_a = df[df['Substance']==a]['Δ𝐻∘f (kJ mol–1)'].iloc[0]\n",
    "    delta_H_b = df[df['Substance']==b]['Δ𝐻∘f (kJ mol–1)'].iloc[0]\n",
    "    \n",
    "    S_a = df[df['Substance']==a]['𝑆° (J K–1 mol–1)'].iloc[0]\n",
    "    S_b = df[df['Substance']==b]['𝑆° (J K–1 mol–1)'].iloc[0]\n",
    "    \n",
    "    delta_H = delta_H_b-delta_H_a\n",
    "    delta_S = S_b-S_a\n",
    "    \n",
    "    return delta_H-(298*delta_S)/1000"
   ]
  },
  {
   "cell_type": "code",
   "execution_count": 5,
   "id": "e6df3f75",
   "metadata": {},
   "outputs": [],
   "source": [
    "a='H2O(l)'\n",
    "b='H2O(g)'"
   ]
  },
  {
   "cell_type": "code",
   "execution_count": 6,
   "id": "a2466056",
   "metadata": {},
   "outputs": [
    {
     "data": {
      "text/plain": [
       "8.60759999999999"
      ]
     },
     "execution_count": 6,
     "metadata": {},
     "output_type": "execute_result"
    }
   ],
   "source": [
    "calculate_delta_G(a,b)"
   ]
  }
 ],
 "metadata": {
  "kernelspec": {
   "display_name": "Python 3",
   "language": "python",
   "name": "python3"
  },
  "language_info": {
   "codemirror_mode": {
    "name": "ipython",
    "version": 3
   },
   "file_extension": ".py",
   "mimetype": "text/x-python",
   "name": "python",
   "nbconvert_exporter": "python",
   "pygments_lexer": "ipython3",
   "version": "3.6.8"
  }
 },
 "nbformat": 4,
 "nbformat_minor": 5
}
